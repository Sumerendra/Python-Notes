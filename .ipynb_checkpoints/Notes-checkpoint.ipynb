{
 "cells": [
  {
   "cell_type": "markdown",
   "id": "60d61450-0be0-4972-9055-22d68e38f5aa",
   "metadata": {},
   "source": [
    "**Data Types in Python**\n",
    "\n",
    "**"
   ]
  },
  {
   "cell_type": "code",
   "execution_count": null,
   "id": "61030e55-ed5c-4d82-8b36-9c1b6b4fe28a",
   "metadata": {},
   "outputs": [],
   "source": [
    "<img src=\"string.PNG\">"
   ]
  },
  {
   "cell_type": "code",
   "execution_count": null,
   "id": "696a6216-de44-4439-bc14-5a300f9f6642",
   "metadata": {},
   "outputs": [],
   "source": [
    "3 + 3"
   ]
  },
  {
   "cell_type": "code",
   "execution_count": null,
   "id": "c4fdb3c2-863d-40e7-8dc3-3a42652e27a4",
   "metadata": {},
   "outputs": [],
   "source": [
    "8 - 4"
   ]
  },
  {
   "cell_type": "code",
   "execution_count": null,
   "id": "18ece966-24e1-4f7e-b48a-774ecd0da074",
   "metadata": {},
   "outputs": [],
   "source": [
    "2 * 4"
   ]
  },
  {
   "cell_type": "code",
   "execution_count": null,
   "id": "6faa66e4-7dcb-4cae-b981-0757f1f561cc",
   "metadata": {},
   "outputs": [],
   "source": [
    "8 / 4"
   ]
  },
  {
   "cell_type": "code",
   "execution_count": null,
   "id": "34be3d45-0882-4da9-beda-7678121b868b",
   "metadata": {},
   "outputs": [],
   "source": [
    "1/2"
   ]
  },
  {
   "cell_type": "code",
   "execution_count": null,
   "id": "d049a68b-e6ce-45dc-9306-d5713fee0638",
   "metadata": {},
   "outputs": [],
   "source": [
    "x = 2\n",
    "x + 3"
   ]
  },
  {
   "cell_type": "code",
   "execution_count": null,
   "id": "35271b94-9306-4b5b-9d37-92047d202815",
   "metadata": {},
   "outputs": [],
   "source": [
    "y = 4"
   ]
  },
  {
   "cell_type": "code",
   "execution_count": null,
   "id": "2de0e8ee-62ec-4406-a602-4b3cad56484d",
   "metadata": {},
   "outputs": [],
   "source": [
    "x * 2"
   ]
  },
  {
   "cell_type": "code",
   "execution_count": null,
   "id": "7867edfd-b523-4594-ab4f-d9febdbf4240",
   "metadata": {},
   "outputs": [],
   "source": [
    "x/4"
   ]
  },
  {
   "cell_type": "code",
   "execution_count": null,
   "id": "f8066269-8025-4bb1-acaa-2751287e30e1",
   "metadata": {},
   "outputs": [],
   "source": [
    "x-1"
   ]
  },
  {
   "cell_type": "code",
   "execution_count": null,
   "id": "78dca86a-825e-4a0c-a4e6-8c571f272551",
   "metadata": {},
   "outputs": [],
   "source": [
    "x + y"
   ]
  },
  {
   "cell_type": "code",
   "execution_count": null,
   "id": "422926e7-3abb-4cdd-ab4b-730b3472a46e",
   "metadata": {},
   "outputs": [],
   "source": [
    "y-x"
   ]
  },
  {
   "cell_type": "code",
   "execution_count": null,
   "id": "a3140770-fe0a-4037-b0bb-2b150451858c",
   "metadata": {},
   "outputs": [],
   "source": [
    "print('hello')"
   ]
  },
  {
   "cell_type": "code",
   "execution_count": null,
   "id": "84857f2f-8ed1-4392-87ea-c8efdfa2cdc6",
   "metadata": {},
   "outputs": [],
   "source": [
    "a = 'I am learning '"
   ]
  },
  {
   "cell_type": "code",
   "execution_count": null,
   "id": "e186ccd9-39ad-4fbb-8672-81622c05c96e",
   "metadata": {},
   "outputs": [],
   "source": [
    "print(a)"
   ]
  },
  {
   "cell_type": "code",
   "execution_count": null,
   "id": "dc0b59a8-a55d-40af-9118-252de86a15f1",
   "metadata": {},
   "outputs": [],
   "source": [
    "b = 'Python'"
   ]
  },
  {
   "cell_type": "code",
   "execution_count": null,
   "id": "3c6a6d37-c941-49dc-8af4-746294d7d330",
   "metadata": {},
   "outputs": [],
   "source": [
    "print('Today ' + a+ b)"
   ]
  },
  {
   "cell_type": "code",
   "execution_count": null,
   "id": "08a61706-2a11-4b0a-9453-3d5309e49129",
   "metadata": {},
   "outputs": [],
   "source": [
    "type('today ' + '3')"
   ]
  },
  {
   "cell_type": "code",
   "execution_count": null,
   "id": "21da1b6a-27f0-4e3b-9491-b5590529fe40",
   "metadata": {},
   "outputs": [],
   "source": []
  },
  {
   "cell_type": "markdown",
   "id": "8c81df00-91ce-4a9a-8169-495e7fb122fb",
   "metadata": {},
   "source": [
    "***NUMPY***"
   ]
  },
  {
   "cell_type": "markdown",
   "id": "c253c6b2-3937-4e7a-8c09-ed6150b2813a",
   "metadata": {},
   "source": [
    "**Numrical Python In Python we have lists that serve the purpose of arrays, but they are slow to process.**\n",
    "\n",
    "**NumPy aims to provide an array object that is up to 50x faster than traditional Python lists.**\n",
    "\n",
    "**The array object in NumPy is called ndarray, it provides a lot of supporting functions that make working with ndarray very easy.**"
   ]
  },
  {
   "cell_type": "markdown",
   "id": "bb32f22b-416d-49f7-80f6-953b9e4eccd1",
   "metadata": {},
   "source": [
    "**Pandas**\n",
    "Pandas allows us to analyze big data and make conclusions based on statistical theories.\n",
    "\n",
    "Pandas can clean messy data sets, and make them readable and relevant.\n",
    "\n",
    "Relevant data is very important in data science."
   ]
  },
  {
   "cell_type": "code",
   "execution_count": null,
   "id": "e413e935-6d70-4ef8-81aa-ec209d8468ff",
   "metadata": {},
   "outputs": [],
   "source": [
    "import pandas as pd\n",
    "import numpy as np "
   ]
  },
  {
   "cell_type": "code",
   "execution_count": null,
   "id": "a7704f18-611f-4a91-8868-47b1db7de986",
   "metadata": {},
   "outputs": [],
   "source": [
    "ser = pd.Series([1,2,4,5,np.nan,9])\n",
    "ser"
   ]
  },
  {
   "cell_type": "code",
   "execution_count": null,
   "id": "d11bafb4-88d7-4946-93d4-d4efeaf1af5f",
   "metadata": {},
   "outputs": [],
   "source": [
    "details_dict = {\"Name\":['suresh','Mukesh','Anil'],\n",
    "               \"Class\":[8, 9, 6],\n",
    "               \"car\":['Maruti','Honda','Ford']}"
   ]
  },
  {
   "cell_type": "code",
   "execution_count": null,
   "id": "bf221adb-bce5-4bc9-b30b-811fab4379b4",
   "metadata": {},
   "outputs": [],
   "source": [
    "df1 = pd.DataFrame(details_dict)\n",
    "df1.head()"
   ]
  },
  {
   "cell_type": "code",
   "execution_count": null,
   "id": "86a3114a-7a28-440e-a7e6-81860b58a0ce",
   "metadata": {},
   "outputs": [],
   "source": [
    "df = pd.read_csv(\"food_items.csv\")"
   ]
  },
  {
   "cell_type": "code",
   "execution_count": null,
   "id": "6707b8fb-a11c-400c-ae9e-65b81abe6fe9",
   "metadata": {},
   "outputs": [],
   "source": [
    "df.head()\n",
    "df.tail(4)\n",
    "df.describe()"
   ]
  },
  {
   "cell_type": "code",
   "execution_count": null,
   "id": "96c8e39c-2d29-4a82-8a45-bcccf37b76f6",
   "metadata": {},
   "outputs": [],
   "source": [
    "df.dtypes"
   ]
  },
  {
   "cell_type": "code",
   "execution_count": null,
   "id": "fb95e3b6-807f-4612-809d-79dc4d2836d3",
   "metadata": {},
   "outputs": [],
   "source": [
    "df.index\n",
    "df.shape"
   ]
  },
  {
   "cell_type": "code",
   "execution_count": null,
   "id": "10d6a480-bc3c-4b6a-867a-f679b184c952",
   "metadata": {},
   "outputs": [],
   "source": [
    "df.T"
   ]
  },
  {
   "cell_type": "code",
   "execution_count": null,
   "id": "bbc0d22f-fe0a-4398-9ea1-c9cbc5211dcc",
   "metadata": {},
   "outputs": [],
   "source": [
    "df.sort_index(axis=1, ascending=False)"
   ]
  }
 ],
 "metadata": {
  "kernelspec": {
   "display_name": "Python 3",
   "language": "python",
   "name": "python3"
  },
  "language_info": {
   "codemirror_mode": {
    "name": "ipython",
    "version": 3
   },
   "file_extension": ".py",
   "mimetype": "text/x-python",
   "name": "python",
   "nbconvert_exporter": "python",
   "pygments_lexer": "ipython3",
   "version": "3.9.1"
  }
 },
 "nbformat": 4,
 "nbformat_minor": 5
}
