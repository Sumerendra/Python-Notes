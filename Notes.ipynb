{
 "cells": [
  {
   "cell_type": "markdown",
   "id": "60d61450-0be0-4972-9055-22d68e38f5aa",
   "metadata": {},
   "source": [
    "### **Data Types in Python**\n",
    "\n",
    "**"
   ]
  },
  {
   "cell_type": "code",
   "execution_count": 5,
   "id": "95d092a1-3785-4a91-bff2-4862c477a365",
   "metadata": {},
   "outputs": [],
   "source": [
    "import sys\n",
    "import keyword\n",
    "import operator\n",
    "from datetime import datetime\n",
    "import os"
   ]
  },
  {
   "cell_type": "code",
   "execution_count": 6,
   "id": "61030e55-ed5c-4d82-8b36-9c1b6b4fe28a",
   "metadata": {},
   "outputs": [
    {
     "ename": "SyntaxError",
     "evalue": "invalid syntax (<ipython-input-6-592b27e76c5e>, line 1)",
     "output_type": "error",
     "traceback": [
      "\u001b[1;36m  File \u001b[1;32m\"<ipython-input-6-592b27e76c5e>\"\u001b[1;36m, line \u001b[1;32m1\u001b[0m\n\u001b[1;33m    <img src=\"Python_datatypes.png\">\u001b[0m\n\u001b[1;37m    ^\u001b[0m\n\u001b[1;31mSyntaxError\u001b[0m\u001b[1;31m:\u001b[0m invalid syntax\n"
     ]
    }
   ],
   "source": [
    "<img src=\"Python_datatypes.png\">"
   ]
  },
  {
   "cell_type": "code",
   "execution_count": 1,
   "id": "51f53614-6461-4427-acc1-2cc64b8a1357",
   "metadata": {},
   "outputs": [
    {
     "name": "stdout",
     "output_type": "stream",
     "text": [
      "Note: you may need to restart the kernel to use updated packages.\n"
     ]
    },
    {
     "name": "stderr",
     "output_type": "stream",
     "text": [
      "ERROR: Could not find a version that satisfies the requirement operater\n",
      "ERROR: No matching distribution found for operater\n"
     ]
    }
   ],
   "source": [
    "pip install operater"
   ]
  },
  {
   "cell_type": "code",
   "execution_count": 5,
   "id": "696a6216-de44-4439-bc14-5a300f9f6642",
   "metadata": {},
   "outputs": [
    {
     "data": {
      "text/plain": [
       "6"
      ]
     },
     "execution_count": 5,
     "metadata": {},
     "output_type": "execute_result"
    }
   ],
   "source": [
    "3 + 3"
   ]
  },
  {
   "cell_type": "code",
   "execution_count": null,
   "id": "c4fdb3c2-863d-40e7-8dc3-3a42652e27a4",
   "metadata": {},
   "outputs": [],
   "source": [
    "8 - 4"
   ]
  },
  {
   "cell_type": "code",
   "execution_count": null,
   "id": "18ece966-24e1-4f7e-b48a-774ecd0da074",
   "metadata": {},
   "outputs": [],
   "source": [
    "2 * 4"
   ]
  },
  {
   "cell_type": "code",
   "execution_count": null,
   "id": "6faa66e4-7dcb-4cae-b981-0757f1f561cc",
   "metadata": {},
   "outputs": [],
   "source": [
    "8 / 4"
   ]
  },
  {
   "cell_type": "code",
   "execution_count": null,
   "id": "34be3d45-0882-4da9-beda-7678121b868b",
   "metadata": {},
   "outputs": [],
   "source": [
    "1/2"
   ]
  },
  {
   "cell_type": "code",
   "execution_count": null,
   "id": "d049a68b-e6ce-45dc-9306-d5713fee0638",
   "metadata": {},
   "outputs": [],
   "source": [
    "x = 2\n",
    "x + 3"
   ]
  },
  {
   "cell_type": "code",
   "execution_count": null,
   "id": "35271b94-9306-4b5b-9d37-92047d202815",
   "metadata": {},
   "outputs": [],
   "source": [
    "y = 4"
   ]
  },
  {
   "cell_type": "code",
   "execution_count": null,
   "id": "2de0e8ee-62ec-4406-a602-4b3cad56484d",
   "metadata": {},
   "outputs": [],
   "source": [
    "x * 2"
   ]
  },
  {
   "cell_type": "code",
   "execution_count": null,
   "id": "7867edfd-b523-4594-ab4f-d9febdbf4240",
   "metadata": {},
   "outputs": [],
   "source": [
    "x/4"
   ]
  },
  {
   "cell_type": "code",
   "execution_count": null,
   "id": "f8066269-8025-4bb1-acaa-2751287e30e1",
   "metadata": {},
   "outputs": [],
   "source": [
    "x-1"
   ]
  },
  {
   "cell_type": "code",
   "execution_count": null,
   "id": "78dca86a-825e-4a0c-a4e6-8c571f272551",
   "metadata": {},
   "outputs": [],
   "source": [
    "x + y"
   ]
  },
  {
   "cell_type": "code",
   "execution_count": null,
   "id": "422926e7-3abb-4cdd-ab4b-730b3472a46e",
   "metadata": {},
   "outputs": [],
   "source": [
    "y-x"
   ]
  },
  {
   "cell_type": "code",
   "execution_count": null,
   "id": "a3140770-fe0a-4037-b0bb-2b150451858c",
   "metadata": {},
   "outputs": [],
   "source": [
    "print('hello')"
   ]
  },
  {
   "cell_type": "code",
   "execution_count": null,
   "id": "84857f2f-8ed1-4392-87ea-c8efdfa2cdc6",
   "metadata": {},
   "outputs": [],
   "source": [
    "a = 'I am learning '"
   ]
  },
  {
   "cell_type": "code",
   "execution_count": null,
   "id": "e186ccd9-39ad-4fbb-8672-81622c05c96e",
   "metadata": {},
   "outputs": [],
   "source": [
    "print(a)"
   ]
  },
  {
   "cell_type": "code",
   "execution_count": null,
   "id": "dc0b59a8-a55d-40af-9118-252de86a15f1",
   "metadata": {},
   "outputs": [],
   "source": [
    "b = 'Python'"
   ]
  },
  {
   "cell_type": "code",
   "execution_count": null,
   "id": "3c6a6d37-c941-49dc-8af4-746294d7d330",
   "metadata": {},
   "outputs": [],
   "source": [
    "print('Today ' + a+ b)"
   ]
  },
  {
   "cell_type": "code",
   "execution_count": null,
   "id": "08a61706-2a11-4b0a-9453-3d5309e49129",
   "metadata": {},
   "outputs": [],
   "source": [
    "type('today ' + '3')"
   ]
  },
  {
   "cell_type": "markdown",
   "id": "99614854-3255-4ea6-a093-2442edfb7e9b",
   "metadata": {},
   "source": [
    "**List and Dictionary**"
   ]
  },
  {
   "cell_type": "code",
   "execution_count": null,
   "id": "0944b45f-820c-4938-8f20-ac6ad6f5d1f2",
   "metadata": {},
   "outputs": [],
   "source": [
    "location =\"Manali is beutiful\"\n",
    "location[0:5]"
   ]
  },
  {
   "cell_type": "code",
   "execution_count": null,
   "id": "5815be23-7079-4ec2-87dd-fb1960a64025",
   "metadata": {},
   "outputs": [],
   "source": [
    "input()"
   ]
  },
  {
   "cell_type": "code",
   "execution_count": null,
   "id": "9c8b7caa-2c82-490b-9111-f511d1bdebd6",
   "metadata": {},
   "outputs": [],
   "source": [
    "name = input(' Whats your name?')\n",
    "favourate_place = input('Enter your favroute location- ')\n",
    "print(name + ' likes ' + favourate_place)"
   ]
  },
  {
   "cell_type": "code",
   "execution_count": null,
   "id": "72dd1cfa-5ad4-4157-b67c-6104a1c378be",
   "metadata": {},
   "outputs": [],
   "source": [
    "location.find('i')"
   ]
  },
  {
   "cell_type": "code",
   "execution_count": null,
   "id": "c7acb5e4-ff3c-4ba5-b364-1cd226e9d2f9",
   "metadata": {},
   "outputs": [],
   "source": [
    "location.lower()"
   ]
  },
  {
   "cell_type": "code",
   "execution_count": null,
   "id": "dc8b3526-66cd-4221-ab0d-682e42bff0df",
   "metadata": {},
   "outputs": [],
   "source": [
    "#list\n",
    "numbers = [1,2,3,4,5]\n",
    "numbers[0]"
   ]
  },
  {
   "cell_type": "code",
   "execution_count": null,
   "id": "16b9bfde-f762-4b8e-8db4-074783df8ab9",
   "metadata": {},
   "outputs": [],
   "source": [
    "numbers[4]"
   ]
  },
  {
   "cell_type": "code",
   "execution_count": null,
   "id": "bf682c2a-c0ae-440f-90ce-f84ad64f637a",
   "metadata": {},
   "outputs": [],
   "source": [
    "numbers"
   ]
  },
  {
   "cell_type": "code",
   "execution_count": null,
   "id": "bfa0f2cf-b855-4c5c-ace3-40263d60f7e6",
   "metadata": {},
   "outputs": [],
   "source": [
    "numbers.remove(5)\n",
    "numbers"
   ]
  },
  {
   "cell_type": "code",
   "execution_count": null,
   "id": "d2415f92-79ba-4f99-8824-e2951ec74884",
   "metadata": {},
   "outputs": [],
   "source": [
    "numbers.pop()"
   ]
  },
  {
   "cell_type": "code",
   "execution_count": null,
   "id": "df3443bf-f5b4-4794-ae9d-973c56f27eea",
   "metadata": {},
   "outputs": [],
   "source": [
    "numbers.append(4)\n",
    "numbers"
   ]
  },
  {
   "cell_type": "code",
   "execution_count": null,
   "id": "68890fcc-d52a-4457-b57c-c66c3fcdee81",
   "metadata": {},
   "outputs": [],
   "source": [
    "numbers.reverse()\n",
    "numbers"
   ]
  },
  {
   "cell_type": "code",
   "execution_count": null,
   "id": "5448e9b3-093a-44ef-b001-ab8072824da6",
   "metadata": {},
   "outputs": [],
   "source": [
    "#Dictionaries-- key:value\n",
    "people = {\n",
    "    \"country\":\"India\",\n",
    "    \"state\":\"Delhi\",\n",
    "    \"Population\":50,\n",
    "    \"Population\": 100\n",
    "}\n",
    "people"
   ]
  },
  {
   "cell_type": "code",
   "execution_count": null,
   "id": "fe45b2bc-d443-4f4d-ae4b-e10a58f19302",
   "metadata": {},
   "outputs": [],
   "source": [
    "people[\"Population\"]"
   ]
  },
  {
   "cell_type": "code",
   "execution_count": null,
   "id": "c1b9be8e-4f7b-4bee-ad75-caa980db1faf",
   "metadata": {},
   "outputs": [],
   "source": []
  },
  {
   "cell_type": "markdown",
   "id": "d8541526-a013-408f-a17e-df6abaa3e803",
   "metadata": {},
   "source": [
    "# Sets\n",
    "A set is an unordered collection with no duplicate elements.Set objects also support mathematical operations like union, intersection, difference.\n",
    "Curly braces or the set() function can be used to create sets. \n",
    "Note: to create an empty set you have to use set(), not {}; the latter creates an empty dictionary"
   ]
  },
  {
   "cell_type": "code",
   "execution_count": null,
   "id": "853a6f8a-92b3-493a-9b1c-0cde1b5af935",
   "metadata": {},
   "outputs": [],
   "source": [
    "set1 = {1,2,3} # dict {key:value}\n",
    "print(type(set1))"
   ]
  },
  {
   "cell_type": "code",
   "execution_count": null,
   "id": "6a487b7a-8108-4fba-a7a0-45175aedc535",
   "metadata": {},
   "outputs": [],
   "source": [
    "fruits = {'apple', 'orange', 'apple', 'pear', 'orange', 'banana'}\n",
    "print(fruits)                      # show that duplicates have been removed"
   ]
  },
  {
   "cell_type": "code",
   "execution_count": null,
   "id": "1d12c7db-fe4d-42cd-b2f4-a83b0acdcc3e",
   "metadata": {},
   "outputs": [],
   "source": [
    "'orange' in fruits                 # fast membership testing\n"
   ]
  },
  {
   "cell_type": "code",
   "execution_count": null,
   "id": "d0d6d4dc-ff26-4dc0-8a52-db58fc916a33",
   "metadata": {},
   "outputs": [],
   "source": [
    "'mango' in fruits"
   ]
  },
  {
   "cell_type": "code",
   "execution_count": null,
   "id": "4321f376-1310-4a39-a6c1-3e8666466eed",
   "metadata": {},
   "outputs": [],
   "source": [
    "a = set('abracadabra')\n",
    "b = set('alacazam')\n",
    "a # unique letters in a\n"
   ]
  },
  {
   "cell_type": "code",
   "execution_count": null,
   "id": "f6527a67-5e27-4564-b603-f9b0705cdd56",
   "metadata": {},
   "outputs": [],
   "source": [
    "b"
   ]
  },
  {
   "cell_type": "code",
   "execution_count": null,
   "id": "e6850035-d3d2-4f45-b73d-b986819ad741",
   "metadata": {},
   "outputs": [],
   "source": [
    "a - b                              # letters in a but not in b"
   ]
  },
  {
   "cell_type": "code",
   "execution_count": null,
   "id": "75327135-f0f9-4946-b6c6-8053e9b81f11",
   "metadata": {},
   "outputs": [],
   "source": [
    "a | b                              # letters in a or b or both"
   ]
  },
  {
   "cell_type": "code",
   "execution_count": null,
   "id": "22640881-ebaa-4749-b88e-34d47fba9545",
   "metadata": {},
   "outputs": [],
   "source": [
    "a & b                              # letters in both a and b"
   ]
  },
  {
   "cell_type": "code",
   "execution_count": null,
   "id": "9c90d4d9-d85d-41bd-8eb5-c7f6cef9da6c",
   "metadata": {},
   "outputs": [],
   "source": [
    "a ^ b                              # letters in a or b but not both (!= a & B)"
   ]
  },
  {
   "cell_type": "markdown",
   "id": "c28f53ed-0efd-4ffa-ba11-9276b386ad96",
   "metadata": {},
   "source": [
    "### Tuples ---> Not immutable"
   ]
  },
  {
   "cell_type": "code",
   "execution_count": null,
   "id": "4151c34b-3d0b-4172-b86a-690d0c9884bb",
   "metadata": {},
   "outputs": [],
   "source": [
    "#Tuples ---> Not immutable\n",
    "city = ('Delhi1','Mumbai','Chennai','Kolkatta','Delhi1','Delhi','Mumbai')"
   ]
  },
  {
   "cell_type": "code",
   "execution_count": null,
   "id": "374547fe-77e4-4bdf-a970-6cec6b43215a",
   "metadata": {},
   "outputs": [],
   "source": [
    "city[0]"
   ]
  },
  {
   "cell_type": "code",
   "execution_count": null,
   "id": "f03a735c-f340-458f-8fba-4fe6b42badb1",
   "metadata": {},
   "outputs": [],
   "source": [
    "city[0]='Bangalore'"
   ]
  },
  {
   "cell_type": "code",
   "execution_count": null,
   "id": "319539a1-8a93-45d7-bbea-4e58447813fe",
   "metadata": {},
   "outputs": [],
   "source": [
    "print(type(tuple1))"
   ]
  },
  {
   "cell_type": "code",
   "execution_count": null,
   "id": "3cf2445c-01f1-4b09-8724-2ad45cfe0b63",
   "metadata": {},
   "outputs": [],
   "source": [
    "##Inbuilt functions\n",
    "city.count('Delhi')"
   ]
  },
  {
   "cell_type": "code",
   "execution_count": null,
   "id": "cefdd3ff-dfec-4a05-902e-c4bc1c0b824e",
   "metadata": {},
   "outputs": [],
   "source": [
    "city.index('Delhi')"
   ]
  },
  {
   "cell_type": "code",
   "execution_count": null,
   "id": "3cb129b7-bc23-4e5e-a177-fe1038c50006",
   "metadata": {},
   "outputs": [],
   "source": []
  },
  {
   "cell_type": "markdown",
   "id": "0c882c90-3541-4a2d-af76-8d9258fca8c1",
   "metadata": {},
   "source": [
    "## Comparision operaters (Boolean)"
   ]
  },
  {
   "cell_type": "code",
   "execution_count": 2,
   "id": "cf2d1ceb-825f-46ae-9d4d-1e2ad4cb8b77",
   "metadata": {},
   "outputs": [],
   "source": [
    "# == , > , <, in , not in"
   ]
  },
  {
   "cell_type": "code",
   "execution_count": null,
   "id": "2dfdf996-e395-4216-8180-8862822dca80",
   "metadata": {},
   "outputs": [],
   "source": [
    "2 == 2"
   ]
  },
  {
   "cell_type": "code",
   "execution_count": null,
   "id": "10365693-6a2d-4700-a6e5-c34922b6d39d",
   "metadata": {},
   "outputs": [],
   "source": [
    "3 == 8"
   ]
  },
  {
   "cell_type": "code",
   "execution_count": null,
   "id": "4b364582-37ab-47e7-897b-88f1fa51338d",
   "metadata": {},
   "outputs": [],
   "source": [
    "\"Manali\" == \"Manali\""
   ]
  },
  {
   "cell_type": "code",
   "execution_count": null,
   "id": "3c851aa3-40d3-4c3a-9313-1f62b6c8beeb",
   "metadata": {},
   "outputs": [],
   "source": [
    "5 < 8"
   ]
  },
  {
   "cell_type": "code",
   "execution_count": null,
   "id": "38cc651c-0516-4f41-a43a-99bdbf9decb2",
   "metadata": {},
   "outputs": [],
   "source": [
    "\"B\" not in \"Manali\""
   ]
  },
  {
   "cell_type": "code",
   "execution_count": null,
   "id": "a2dc5de7-5b87-4ddd-a8f1-0cdfc7bfcda4",
   "metadata": {},
   "outputs": [],
   "source": [
    "#If else"
   ]
  },
  {
   "cell_type": "code",
   "execution_count": null,
   "id": "ae4078ff-2f1e-433b-ba6d-4c7b6e067d9d",
   "metadata": {},
   "outputs": [],
   "source": [
    "number1 = 25\n",
    "number2 = 20\n",
    "if number1> number2:\n",
    "    print('number1 is higher')\n",
    "else:\n",
    "    print('number2 is higher')"
   ]
  },
  {
   "cell_type": "code",
   "execution_count": null,
   "id": "eb2eb79b-afc3-40d1-be0a-ea7e41f79924",
   "metadata": {},
   "outputs": [],
   "source": [
    "brother_age= input('Enter brothers age -')\n",
    "sister_age= input('Enter sisters age - ')\n",
    "if brother_age > sister_age:\n",
    "    print('Brother is elder')\n",
    "elif brother_age == sister_age:\n",
    "    print('Twins')\n",
    "else:\n",
    "    print('Sister is elder')"
   ]
  },
  {
   "cell_type": "code",
   "execution_count": null,
   "id": "2c7a114a-9f38-496c-90d1-e02f37f0efad",
   "metadata": {},
   "outputs": [],
   "source": []
  },
  {
   "cell_type": "markdown",
   "id": "2f77ff6e-5390-449a-aa43-9aa585c4ebed",
   "metadata": {},
   "source": [
    "### for loop"
   ]
  },
  {
   "cell_type": "code",
   "execution_count": null,
   "id": "d5f577bc-ac01-4406-8216-65bd16a8dfff",
   "metadata": {},
   "outputs": [],
   "source": [
    "a = ['Red','Green','Yellow','Purple']"
   ]
  },
  {
   "cell_type": "code",
   "execution_count": null,
   "id": "18799dd7-7c45-4812-87c1-4411884eb27d",
   "metadata": {},
   "outputs": [],
   "source": [
    "print(a[0])\n",
    "print(a[1])\n",
    "print(a[2])\n",
    "print(a[3])"
   ]
  },
  {
   "cell_type": "code",
   "execution_count": null,
   "id": "6acf05bc-5917-44cc-bf42-3b5a26f2d4c7",
   "metadata": {},
   "outputs": [],
   "source": [
    "for elements1 in a:\n",
    "    print(elements1)"
   ]
  },
  {
   "cell_type": "code",
   "execution_count": null,
   "id": "614b6771-a3e0-4361-9372-287a6494fc10",
   "metadata": {},
   "outputs": [],
   "source": [
    "b = list(range(1, 6))\n",
    "for i in b:\n",
    "    print(i)"
   ]
  },
  {
   "cell_type": "code",
   "execution_count": null,
   "id": "da92c51e-c848-4ff8-bc7e-1c2293ff6060",
   "metadata": {},
   "outputs": [],
   "source": [
    "total = 0\n",
    "c = list(range(1, 5))\n",
    "for i in c:\n",
    "    total = total + i # 0 + 1 = 1, 1 + 2 = 3\n",
    "print(total)"
   ]
  },
  {
   "cell_type": "code",
   "execution_count": null,
   "id": "5057ead3-0a29-42d4-bb03-7695351d8c1f",
   "metadata": {},
   "outputs": [],
   "source": [
    "total1=0\n",
    "d = list(range(1, 11))\n",
    "for i in d:\n",
    "    if i % 5==0:\n",
    "        print(i)\n",
    "        total1 = total1 +  i \n",
    "print(total1)"
   ]
  },
  {
   "cell_type": "code",
   "execution_count": null,
   "id": "57ada869-00bf-4f5a-ac90-6e4f487dbe8d",
   "metadata": {},
   "outputs": [],
   "source": [
    "10 % 5"
   ]
  },
  {
   "cell_type": "code",
   "execution_count": null,
   "id": "a39746db-3109-4761-a942-0781ec13cc99",
   "metadata": {},
   "outputs": [],
   "source": []
  },
  {
   "cell_type": "markdown",
   "id": "03e2d261-9b0f-4ccf-b6f1-0d34e26c686f",
   "metadata": {},
   "source": [
    "### while loops"
   ]
  },
  {
   "cell_type": "code",
   "execution_count": null,
   "id": "32828472-450c-4295-833f-cd68b0d891b2",
   "metadata": {},
   "outputs": [],
   "source": [
    "a = 0\n",
    "while a < 6: #0 < 10 ----->True #0,1,2,..9\n",
    "    print(a)\n",
    "    a = a + 1"
   ]
  },
  {
   "cell_type": "code",
   "execution_count": null,
   "id": "5ccccb77-8a46-4e12-90d2-2bff12a32430",
   "metadata": {},
   "outputs": [],
   "source": [
    "#addition in while loop\n",
    "b = 0\n",
    "total_val=0\n",
    "while b < 5:#--------------------> 0,1,2,3,4(True)-----,5==5(False),6<5(False)\n",
    "    print(b)\n",
    "    total_val = total_val + b\n",
    "    b = b + 1\n",
    "print(total_val)"
   ]
  },
  {
   "cell_type": "code",
   "execution_count": null,
   "id": "7ed4f4c7-00a4-4ba1-af9a-2e4ce9964fc6",
   "metadata": {},
   "outputs": [],
   "source": [
    "c = 0\n",
    "while c < 5:#condition--=-------->True-----> If-------->Value of (0,1,2,3,4,) ----a---b--c------a---b--c--a---b--c--a---b--c--a---b--c|False)\n",
    "    if c > 3: # 0 > 3-----False,False,False,False,True\n",
    "        print(\"Greater than 3\")\n",
    "    else:\n",
    "        print(\"smaller than 3\")\n",
    "    c = c + 1 # c += 1"
   ]
  },
  {
   "cell_type": "code",
   "execution_count": null,
   "id": "4a842c26-1047-46ac-8d6c-971a0dd4d799",
   "metadata": {},
   "outputs": [],
   "source": []
  },
  {
   "cell_type": "markdown",
   "id": "6f7ad230-8121-4c07-a3f8-6330e7bd5378",
   "metadata": {},
   "source": [
    "### Functions"
   ]
  },
  {
   "cell_type": "code",
   "execution_count": null,
   "id": "35480f1e-cf7e-44e5-aa77-cbe00c437269",
   "metadata": {},
   "outputs": [],
   "source": [
    "def function1():\n",
    "    print('This is first line')\n",
    "    print('This is the second line')\n",
    "    \n",
    "print('Outside the function')"
   ]
  },
  {
   "cell_type": "code",
   "execution_count": null,
   "id": "c4536790-142f-4ceb-b54e-7123dedd22a8",
   "metadata": {},
   "outputs": [],
   "source": [
    "function1()"
   ]
  },
  {
   "cell_type": "code",
   "execution_count": null,
   "id": "1ba1b1e9-ee4a-4cc6-8aff-e818e5b63342",
   "metadata": {},
   "outputs": [],
   "source": [
    "def add(x):\n",
    "    print(x + 2)"
   ]
  },
  {
   "cell_type": "code",
   "execution_count": null,
   "id": "b0385826-b9d3-40de-97d0-da8c88b101f3",
   "metadata": {},
   "outputs": [],
   "source": [
    "add(4)"
   ]
  },
  {
   "cell_type": "code",
   "execution_count": null,
   "id": "f889cdbb-b616-4eb3-8cb0-5371f19501b2",
   "metadata": {},
   "outputs": [],
   "source": [
    "def mult(a):\n",
    "    return(a* 3)"
   ]
  },
  {
   "cell_type": "code",
   "execution_count": null,
   "id": "dca7197d-6596-4a01-a9cf-228b24e86a7b",
   "metadata": {},
   "outputs": [],
   "source": [
    "var1 = mult(2)\n",
    "print(var1)"
   ]
  },
  {
   "cell_type": "code",
   "execution_count": null,
   "id": "f5b4847a-779e-4249-a7a7-9660b8962073",
   "metadata": {},
   "outputs": [],
   "source": [
    "#average bw two numbers\n",
    "def average(a, b):\n",
    "    \"\"\"This function is taking average bw two numbers, this function doesnt do division\"\"\"\n",
    "    average_v = (a+b)/2\n",
    "    return(average_v)"
   ]
  },
  {
   "cell_type": "code",
   "execution_count": null,
   "id": "fe024040-f33d-4c94-8177-af3e30523dad",
   "metadata": {},
   "outputs": [],
   "source": [
    "average(4, 6)"
   ]
  },
  {
   "cell_type": "code",
   "execution_count": null,
   "id": "0eb90341-640b-45d6-9a54-67cad428b134",
   "metadata": {},
   "outputs": [],
   "source": [
    "print(average.__doc__)"
   ]
  },
  {
   "cell_type": "markdown",
   "id": "6ff9d68e-f5ee-438a-8859-f75672ebf538",
   "metadata": {},
   "source": [
    "### Lambda functions"
   ]
  },
  {
   "cell_type": "code",
   "execution_count": null,
   "id": "52d6a914-1ccd-4f1e-b4df-525a463dffa7",
   "metadata": {},
   "outputs": [],
   "source": [
    "# lambda (arguments): operation(arguments)\n",
    "def show_val(a):\n",
    "    print(a)\n",
    "show_val(5)"
   ]
  },
  {
   "cell_type": "code",
   "execution_count": null,
   "id": "6879f342-49d1-446a-9def-f33316f8d62c",
   "metadata": {},
   "outputs": [],
   "source": [
    "show_val = lambda a:print(a)\n",
    "show_val(6)"
   ]
  },
  {
   "cell_type": "code",
   "execution_count": null,
   "id": "d79d305b-045f-40fa-b90c-432dde5cd0cf",
   "metadata": {},
   "outputs": [],
   "source": [
    "add=  lambda x, y: x + y\n",
    "add(4, 2)"
   ]
  },
  {
   "cell_type": "code",
   "execution_count": null,
   "id": "0f762714-32cb-4e1f-8cae-82b9ef57eda3",
   "metadata": {},
   "outputs": [],
   "source": [
    "operate1 = lambda x, y: (x + y, x - y) # x = 6, Y = 3----->(6+3,6-3)--->(9, 3)\n",
    "x , y = operate1(6, 3)\n",
    "print(x)\n",
    "print(y)"
   ]
  },
  {
   "cell_type": "markdown",
   "id": "8c81df00-91ce-4a9a-8169-495e7fb122fb",
   "metadata": {},
   "source": [
    "# **NUMPY**"
   ]
  },
  {
   "cell_type": "markdown",
   "id": "c253c6b2-3937-4e7a-8c09-ed6150b2813a",
   "metadata": {},
   "source": [
    "**Numrical Python In Python we have lists that serve the purpose of arrays, but they are slow to process.**\n",
    "\n",
    "**NumPy aims to provide an array object that is up to 50x faster than traditional Python lists.**\n",
    "\n",
    "**The array object in NumPy is called ndarray, it provides a lot of supporting functions that make working with ndarray very easy.**"
   ]
  },
  {
   "cell_type": "markdown",
   "id": "bb32f22b-416d-49f7-80f6-953b9e4eccd1",
   "metadata": {},
   "source": [
    "**Pandas**\n",
    "Pandas allows us to analyze big data and make conclusions based on statistical theories.\n",
    "\n",
    "Pandas can clean messy data sets, and make them readable and relevant.\n",
    "\n",
    "Relevant data is very important in data science."
   ]
  },
  {
   "cell_type": "code",
   "execution_count": null,
   "id": "e413e935-6d70-4ef8-81aa-ec209d8468ff",
   "metadata": {},
   "outputs": [],
   "source": [
    "import pandas as pd\n",
    "import numpy as np "
   ]
  },
  {
   "cell_type": "code",
   "execution_count": null,
   "id": "a7704f18-611f-4a91-8868-47b1db7de986",
   "metadata": {},
   "outputs": [],
   "source": [
    "ser = pd.Series([1,2,4,5,np.nan,9])\n",
    "ser"
   ]
  },
  {
   "cell_type": "code",
   "execution_count": null,
   "id": "d11bafb4-88d7-4946-93d4-d4efeaf1af5f",
   "metadata": {},
   "outputs": [],
   "source": [
    "details_dict = {\"Name\":['suresh','Mukesh','Anil'],\n",
    "               \"Class\":[8, 9, 6],\n",
    "               \"car\":['Maruti','Honda','Ford']}"
   ]
  },
  {
   "cell_type": "code",
   "execution_count": null,
   "id": "bf221adb-bce5-4bc9-b30b-811fab4379b4",
   "metadata": {},
   "outputs": [],
   "source": [
    "df1 = pd.DataFrame(details_dict)\n",
    "df1.head()"
   ]
  },
  {
   "cell_type": "code",
   "execution_count": null,
   "id": "86a3114a-7a28-440e-a7e6-81860b58a0ce",
   "metadata": {},
   "outputs": [],
   "source": [
    "df = pd.read_csv(\"food_items.csv\")"
   ]
  },
  {
   "cell_type": "code",
   "execution_count": null,
   "id": "6707b8fb-a11c-400c-ae9e-65b81abe6fe9",
   "metadata": {},
   "outputs": [],
   "source": [
    "df.head()\n",
    "df.tail(4)\n",
    "df.describe()"
   ]
  },
  {
   "cell_type": "code",
   "execution_count": null,
   "id": "96c8e39c-2d29-4a82-8a45-bcccf37b76f6",
   "metadata": {},
   "outputs": [],
   "source": [
    "df.dtypes"
   ]
  },
  {
   "cell_type": "code",
   "execution_count": null,
   "id": "fb95e3b6-807f-4612-809d-79dc4d2836d3",
   "metadata": {},
   "outputs": [],
   "source": [
    "df.index\n",
    "df.shape"
   ]
  },
  {
   "cell_type": "code",
   "execution_count": null,
   "id": "10d6a480-bc3c-4b6a-867a-f679b184c952",
   "metadata": {},
   "outputs": [],
   "source": [
    "df.T"
   ]
  },
  {
   "cell_type": "code",
   "execution_count": null,
   "id": "bbc0d22f-fe0a-4398-9ea1-c9cbc5211dcc",
   "metadata": {},
   "outputs": [],
   "source": [
    "df.sort_index(axis=1, ascending=False)"
   ]
  }
 ],
 "metadata": {
  "kernelspec": {
   "display_name": "Python 3",
   "language": "python",
   "name": "python3"
  },
  "language_info": {
   "codemirror_mode": {
    "name": "ipython",
    "version": 3
   },
   "file_extension": ".py",
   "mimetype": "text/x-python",
   "name": "python",
   "nbconvert_exporter": "python",
   "pygments_lexer": "ipython3",
   "version": "3.9.1"
  }
 },
 "nbformat": 4,
 "nbformat_minor": 5
}
