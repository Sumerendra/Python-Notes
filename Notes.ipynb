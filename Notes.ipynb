{
 "cells": [
  {
   "cell_type": "markdown",
   "id": "acba3cdd-31c0-4958-bbc7-c5f2fe4eae04",
   "metadata": {},
   "source": [
    "<!DOCTYPE html>\n",
    "<html>\n",
    "<body>\n",
    "<div align=\"left\">  \n",
    "<h1>Python Notes for Beginner to start with Python</h1>\n",
    " </div>\n",
    "    <div align=\"right\">     \n",
    "    <h3>Prepared by Sumerendra saurabh</h3>\n",
    "</div>\n",
    "</body>\n",
    "</html>"
   ]
  },
  {
   "cell_type": "markdown",
   "id": "4c452507-47a9-4899-9106-accea0d933e6",
   "metadata": {},
   "source": [
    "### What is Python\n",
    "\n",
    "##### Python is an interpreted, object-oriented, high-level programming language with dynamic semantics. Its high-level built in data structures, combined with dynamic typing and dynamic binding, make it very attractive for Rapid Application Development, as well as for use as a scripting or glue language to connect existing components together. Python's simple, easy to learn syntax emphasizes readability and therefore reduces the cost of program maintenance. Python supports modules and packages, which encourages program modularity and code reuse. The Python interpreter and the extensive standard library are available in source or binary form without charge for all major platforms, and can be freely distributed."
   ]
  },
  {
   "cell_type": "markdown",
   "id": "5166f087-6588-4de5-8978-066e23467245",
   "metadata": {},
   "source": [
    "### Quick start with installation of Python,Miniconda and Jupyter.\n",
    "1. Go Python page and download latest python version- https://www.python.org/downloads/ \n",
    "2. Install miniconda from miniconda website- https://docs.conda.io/en/latest/miniconda.html \n",
    "3. After installation is done, Open Miniconda and run\n",
    "   - pip install jupyterlab # install jupyter lab\n",
    "   - pip install notebook  # install jupyter note book\n",
    "4. Once Jupyter notebook/Jupyter-lab is installed You can open your local server by using command-\n",
    "   - jupyter notebook (for Notebook)\n",
    "   - jupyter-lab (For Jupyter lab)\n",
    "\n",
    "#### Detailed Video on the same- https://youtu.be/_e7gsgiQ9Q4"
   ]
  },
  {
   "cell_type": "markdown",
   "id": "60d61450-0be0-4972-9055-22d68e38f5aa",
   "metadata": {},
   "source": [
    "### Data Types in Python\n",
    "Python has the following data types built-in by default, in these categories:\n",
    "\n",
    "##### Text Type:\tstr(string)\n",
    "##### Numeric Types:\tint, float, complex (numbers)\n",
    "##### Sequence Types:\tlist, tuple\n",
    "##### Mapping Type:\tdict (Dictionary)\n",
    "##### Set Types:\tset, frozenset\n",
    "##### Boolean Type:\tbool( Returns in True and False)\n",
    "##### Binary Types:\tbytes, bytearray, memoryview\n"
   ]
  },
  {
   "cell_type": "markdown",
   "id": "9e721032-916c-4e4b-a836-7275a6ae38ca",
   "metadata": {},
   "source": []
  },
  {
   "cell_type": "markdown",
   "id": "63b893e4-30f5-4689-a049-83bc339dfd31",
   "metadata": {},
   "source": [
    "### Python Numbers\n",
    "\n",
    "##### Python can do mathmatical operations"
   ]
  },
  {
   "cell_type": "code",
   "execution_count": null,
   "id": "cb5a525d-b827-47d6-a556-cfa152e4db0f",
   "metadata": {},
   "outputs": [],
   "source": [
    "a = 3\n",
    "print(a)"
   ]
  },
  {
   "cell_type": "code",
   "execution_count": null,
   "id": "696a6216-de44-4439-bc14-5a300f9f6642",
   "metadata": {},
   "outputs": [],
   "source": [
    "3 + 3"
   ]
  },
  {
   "cell_type": "code",
   "execution_count": null,
   "id": "c4fdb3c2-863d-40e7-8dc3-3a42652e27a4",
   "metadata": {},
   "outputs": [],
   "source": [
    "8 - 4"
   ]
  },
  {
   "cell_type": "code",
   "execution_count": null,
   "id": "18ece966-24e1-4f7e-b48a-774ecd0da074",
   "metadata": {},
   "outputs": [],
   "source": [
    "2 * 4 # Multiplication can be done using *"
   ]
  },
  {
   "cell_type": "code",
   "execution_count": null,
   "id": "6faa66e4-7dcb-4cae-b981-0757f1f561cc",
   "metadata": {},
   "outputs": [],
   "source": [
    "8 / 4 "
   ]
  },
  {
   "cell_type": "code",
   "execution_count": 7,
   "id": "34be3d45-0882-4da9-beda-7678121b868b",
   "metadata": {},
   "outputs": [
    {
     "data": {
      "text/plain": [
       "0.5"
      ]
     },
     "execution_count": 7,
     "metadata": {},
     "output_type": "execute_result"
    }
   ],
   "source": [
    "1/2 "
   ]
  },
  {
   "cell_type": "code",
   "execution_count": null,
   "id": "d049a68b-e6ce-45dc-9306-d5713fee0638",
   "metadata": {},
   "outputs": [],
   "source": [
    "x = 2\n",
    "x + 3"
   ]
  },
  {
   "cell_type": "code",
   "execution_count": null,
   "id": "35271b94-9306-4b5b-9d37-92047d202815",
   "metadata": {},
   "outputs": [],
   "source": [
    "y = 4"
   ]
  },
  {
   "cell_type": "code",
   "execution_count": null,
   "id": "2de0e8ee-62ec-4406-a602-4b3cad56484d",
   "metadata": {},
   "outputs": [],
   "source": [
    "x * 2"
   ]
  },
  {
   "cell_type": "code",
   "execution_count": null,
   "id": "7867edfd-b523-4594-ab4f-d9febdbf4240",
   "metadata": {},
   "outputs": [],
   "source": [
    "x/4"
   ]
  },
  {
   "cell_type": "code",
   "execution_count": null,
   "id": "f8066269-8025-4bb1-acaa-2751287e30e1",
   "metadata": {},
   "outputs": [],
   "source": [
    "x-1"
   ]
  },
  {
   "cell_type": "code",
   "execution_count": null,
   "id": "78dca86a-825e-4a0c-a4e6-8c571f272551",
   "metadata": {},
   "outputs": [],
   "source": [
    "x + y"
   ]
  },
  {
   "cell_type": "code",
   "execution_count": null,
   "id": "422926e7-3abb-4cdd-ab4b-730b3472a46e",
   "metadata": {},
   "outputs": [],
   "source": [
    "y-x"
   ]
  },
  {
   "cell_type": "markdown",
   "id": "94f578e0-b205-4f48-baac-cbeb723e3a2a",
   "metadata": {},
   "source": [
    "### print() in Python"
   ]
  },
  {
   "cell_type": "code",
   "execution_count": 9,
   "id": "f384ce24-29b4-41c9-ab22-d13829e32259",
   "metadata": {},
   "outputs": [
    {
     "name": "stdout",
     "output_type": "stream",
     "text": [
      "Hello world\n"
     ]
    }
   ],
   "source": [
    "print(\"Hello world\")"
   ]
  },
  {
   "cell_type": "code",
   "execution_count": 10,
   "id": "c996daf8-5ecb-4f77-8f98-ac110b09a71a",
   "metadata": {},
   "outputs": [
    {
     "name": "stdout",
     "output_type": "stream",
     "text": [
      "5\n"
     ]
    }
   ],
   "source": [
    "print(5)"
   ]
  },
  {
   "cell_type": "markdown",
   "id": "d0785a49-5efb-49dc-96cc-7682346558ff",
   "metadata": {},
   "source": [
    "### Python variables\n",
    "\n",
    "#### variables are container which can be declared and a value can be assigned"
   ]
  },
  {
   "cell_type": "code",
   "execution_count": 8,
   "id": "ffb183aa-e977-4302-b21a-4499de8de139",
   "metadata": {},
   "outputs": [
    {
     "name": "stdout",
     "output_type": "stream",
     "text": [
      "25\n"
     ]
    }
   ],
   "source": [
    "a = 15 # a is variable(Container) which has assigned value of 15\n",
    "b = 10\n",
    "c = (a + b) # c is variable(Container) which has assigned value of (a + b)\n",
    "print(c)"
   ]
  },
  {
   "cell_type": "code",
   "execution_count": 11,
   "id": "3e0b7f50-003f-416b-84a2-f70e9f644827",
   "metadata": {},
   "outputs": [
    {
     "name": "stdout",
     "output_type": "stream",
     "text": [
      "Sample value\n"
     ]
    }
   ],
   "source": [
    "s = \"Sample value\" # s is variable where a string is stored\n",
    "print(s)"
   ]
  },
  {
   "cell_type": "code",
   "execution_count": null,
   "id": "5dd90ebe-4c7d-4ad3-87ee-b8fd490f3bf2",
   "metadata": {},
   "outputs": [],
   "source": []
  },
  {
   "cell_type": "markdown",
   "id": "f7d1c1df-017a-4a06-8565-2fae6f7d2e36",
   "metadata": {},
   "source": [
    "### String\n",
    "\n",
    "#### A string in Python is a sequence of characters. It is a derived data type. Strings are immutable. This means that once defined, they cannot be changed. Many Python methods, such as replace() , join() , or split() modify strings."
   ]
  },
  {
   "cell_type": "markdown",
   "id": "faff1bd7-e361-4954-a175-3e42409feab5",
   "metadata": {},
   "source": [
    "#### To create any string define inside **\" \"** Or **' '**"
   ]
  },
  {
   "cell_type": "code",
   "execution_count": 16,
   "id": "84857f2f-8ed1-4392-87ea-c8efdfa2cdc6",
   "metadata": {},
   "outputs": [],
   "source": [
    "a = 'I am learning ' # Used ' ' to define string"
   ]
  },
  {
   "cell_type": "code",
   "execution_count": 15,
   "id": "e186ccd9-39ad-4fbb-8672-81622c05c96e",
   "metadata": {},
   "outputs": [
    {
     "name": "stdout",
     "output_type": "stream",
     "text": [
      "15\n"
     ]
    }
   ],
   "source": [
    "print(a)"
   ]
  },
  {
   "cell_type": "code",
   "execution_count": 17,
   "id": "dc0b59a8-a55d-40af-9118-252de86a15f1",
   "metadata": {},
   "outputs": [],
   "source": [
    "b = \"Python\" # Used \" \" to define a string"
   ]
  },
  {
   "cell_type": "code",
   "execution_count": 18,
   "id": "3c6a6d37-c941-49dc-8af4-746294d7d330",
   "metadata": {},
   "outputs": [
    {
     "name": "stdout",
     "output_type": "stream",
     "text": [
      "Today I am learning Python\n"
     ]
    }
   ],
   "source": [
    "print('Today ' + a+ b) # You can also print multiple string together Using +"
   ]
  },
  {
   "cell_type": "markdown",
   "id": "a7a858f7-fed0-41ee-8d5e-05edcd1c8e3f",
   "metadata": {},
   "source": [
    "#### Create a number as string, this will help while adding a number to string"
   ]
  },
  {
   "cell_type": "code",
   "execution_count": 23,
   "id": "2f3d6943-3d12-4a4a-ad03-13494ebd55ed",
   "metadata": {},
   "outputs": [
    {
     "name": "stdout",
     "output_type": "stream",
     "text": [
      "3\n"
     ]
    }
   ],
   "source": [
    "a1 = str(3) \n",
    "print(a1)"
   ]
  },
  {
   "cell_type": "code",
   "execution_count": 24,
   "id": "eaf1161c-3daa-4c85-b73f-abb470dd9bd9",
   "metadata": {},
   "outputs": [
    {
     "data": {
      "text/plain": [
       "str"
      ]
     },
     "execution_count": 24,
     "metadata": {},
     "output_type": "execute_result"
    }
   ],
   "source": [
    "type(a1)"
   ]
  },
  {
   "cell_type": "code",
   "execution_count": 25,
   "id": "5d5e30b9-3b5d-4e2c-9d12-c238920cb77f",
   "metadata": {},
   "outputs": [
    {
     "ename": "TypeError",
     "evalue": "unsupported operand type(s) for +: 'int' and 'str'",
     "output_type": "error",
     "traceback": [
      "\u001b[1;31m---------------------------------------------------------------------------\u001b[0m",
      "\u001b[1;31mTypeError\u001b[0m                                 Traceback (most recent call last)",
      "\u001b[1;32m<ipython-input-25-94966fde8e7b>\u001b[0m in \u001b[0;36m<module>\u001b[1;34m\u001b[0m\n\u001b[0;32m      1\u001b[0m \u001b[0ma2\u001b[0m \u001b[1;33m=\u001b[0m \u001b[1;36m6\u001b[0m\u001b[1;33m\u001b[0m\u001b[1;33m\u001b[0m\u001b[0m\n\u001b[0;32m      2\u001b[0m \u001b[0ma3\u001b[0m \u001b[1;33m=\u001b[0m \u001b[1;34m'add to number'\u001b[0m\u001b[1;33m\u001b[0m\u001b[1;33m\u001b[0m\u001b[0m\n\u001b[1;32m----> 3\u001b[1;33m \u001b[0mprint\u001b[0m\u001b[1;33m(\u001b[0m\u001b[0ma2\u001b[0m \u001b[1;33m+\u001b[0m \u001b[0ma3\u001b[0m\u001b[1;33m)\u001b[0m\u001b[1;33m\u001b[0m\u001b[1;33m\u001b[0m\u001b[0m\n\u001b[0m",
      "\u001b[1;31mTypeError\u001b[0m: unsupported operand type(s) for +: 'int' and 'str'"
     ]
    }
   ],
   "source": [
    "a2 = 6\n",
    "a3 = ' add to number'\n",
    "print(a2 + a3) # You cannot add int and str, you need to need define number as string using str(). Shown in below cell"
   ]
  },
  {
   "cell_type": "code",
   "execution_count": 28,
   "id": "bf040388-dbf9-414c-966b-32f8a4e79f55",
   "metadata": {},
   "outputs": [
    {
     "name": "stdout",
     "output_type": "stream",
     "text": [
      "6 add to number\n"
     ]
    }
   ],
   "source": [
    "a2 = str(6)\n",
    "a3 = ' add to number'\n",
    "print(a2 + a3)"
   ]
  },
  {
   "cell_type": "markdown",
   "id": "1719582b-55b7-44d1-9a82-a32f23b179cb",
   "metadata": {},
   "source": [
    "### Type() function \n",
    "#### The type() function in Python returns the data type of the object passed to it as an argument."
   ]
  },
  {
   "cell_type": "code",
   "execution_count": 20,
   "id": "08a61706-2a11-4b0a-9453-3d5309e49129",
   "metadata": {},
   "outputs": [
    {
     "data": {
      "text/plain": [
       "str"
      ]
     },
     "execution_count": 20,
     "metadata": {},
     "output_type": "execute_result"
    }
   ],
   "source": [
    "type('Hello world') "
   ]
  },
  {
   "cell_type": "code",
   "execution_count": 21,
   "id": "f26a8897-5675-4110-bdc4-cb9df67d20d9",
   "metadata": {},
   "outputs": [
    {
     "data": {
      "text/plain": [
       "int"
      ]
     },
     "execution_count": 21,
     "metadata": {},
     "output_type": "execute_result"
    }
   ],
   "source": [
    "type(5)"
   ]
  },
  {
   "cell_type": "code",
   "execution_count": 22,
   "id": "61e4f6e8-546b-495d-ba0e-9a6b8beb1401",
   "metadata": {},
   "outputs": [
    {
     "data": {
      "text/plain": [
       "float"
      ]
     },
     "execution_count": 22,
     "metadata": {},
     "output_type": "execute_result"
    }
   ],
   "source": [
    "type(5.6)"
   ]
  },
  {
   "cell_type": "markdown",
   "id": "32fcd57a-6181-4e56-a910-4678bdac93bb",
   "metadata": {},
   "source": [
    "#### Indexing of string starts with 0 and we can also use -1 index for last element.\n",
    "#### Image below explains"
   ]
  },
  {
   "cell_type": "markdown",
   "id": "13b393e7-3a59-4eb2-b755-908d7b0e2b5f",
   "metadata": {},
   "source": [
    "<img src=\"string_python.PNG\">"
   ]
  },
  {
   "cell_type": "code",
   "execution_count": 31,
   "id": "eb7958df-5c22-4afc-89bf-9c42fe248794",
   "metadata": {},
   "outputs": [
    {
     "data": {
      "text/plain": [
       "'Manal'"
      ]
     },
     "execution_count": 31,
     "metadata": {},
     "output_type": "execute_result"
    }
   ],
   "source": [
    "location =\"Manali is beutiful\"\n",
    "location[0:5]  # in given string you can slice with using index ( It exclude last elemnt in range given which is 5th here, only slice 0-4th elemnt)"
   ]
  },
  {
   "cell_type": "code",
   "execution_count": 30,
   "id": "10db826a-5ef5-4e9f-8e96-b24ab61e0f31",
   "metadata": {},
   "outputs": [
    {
     "data": {
      "text/plain": [
       "'i is beutifu'"
      ]
     },
     "execution_count": 30,
     "metadata": {},
     "output_type": "execute_result"
    }
   ],
   "source": [
    "location[5:-1]"
   ]
  },
  {
   "cell_type": "markdown",
   "id": "42e648f0-08a0-4054-ad67-a60fbea0f4f9",
   "metadata": {},
   "source": [
    "#### lower() and Upper(), changes the case of string"
   ]
  },
  {
   "cell_type": "code",
   "execution_count": 37,
   "id": "3769e75a-4980-4c1c-9833-3b16868049ab",
   "metadata": {},
   "outputs": [
    {
     "data": {
      "text/plain": [
       "'manali is beutiful'"
      ]
     },
     "execution_count": 37,
     "metadata": {},
     "output_type": "execute_result"
    }
   ],
   "source": [
    "location.lower() "
   ]
  },
  {
   "cell_type": "code",
   "execution_count": 38,
   "id": "09002e69-8bd5-41c9-b84f-f9801425b3b6",
   "metadata": {},
   "outputs": [
    {
     "data": {
      "text/plain": [
       "'MANALI IS BEUTIFUL'"
      ]
     },
     "execution_count": 38,
     "metadata": {},
     "output_type": "execute_result"
    }
   ],
   "source": [
    "location.upper() "
   ]
  },
  {
   "cell_type": "markdown",
   "id": "268489aa-afd6-4400-b8ba-5117dac6c0b5",
   "metadata": {},
   "source": [
    "### input() function. \n",
    "\n",
    "#### user input from the keyboard can be read using the input() built-in function. The input from the user is read as a string and can be assigned to a variable. "
   ]
  },
  {
   "cell_type": "code",
   "execution_count": 32,
   "id": "c2b6af4a-b2cd-4e08-8009-40ae14f7f705",
   "metadata": {},
   "outputs": [
    {
     "name": "stdin",
     "output_type": "stream",
     "text": [
      " 5\n"
     ]
    },
    {
     "data": {
      "text/plain": [
       "'5'"
      ]
     },
     "execution_count": 32,
     "metadata": {},
     "output_type": "execute_result"
    }
   ],
   "source": [
    "input()"
   ]
  },
  {
   "cell_type": "code",
   "execution_count": 34,
   "id": "16b4a1a2-5385-4c24-b3dd-4aa1b6898301",
   "metadata": {},
   "outputs": [
    {
     "name": "stdin",
     "output_type": "stream",
     "text": [
      "Enter the name Sumer\n"
     ]
    },
    {
     "name": "stdout",
     "output_type": "stream",
     "text": [
      "Sumer\n"
     ]
    }
   ],
   "source": [
    "name = input('Enter the name',)\n",
    "print(name)"
   ]
  },
  {
   "cell_type": "code",
   "execution_count": 35,
   "id": "a57f738f-a892-4a4f-96dd-5e4f23bf1539",
   "metadata": {},
   "outputs": [
    {
     "name": "stdout",
     "output_type": "stream",
     "text": [
      "Hello Sumer\n"
     ]
    }
   ],
   "source": [
    "print('Hello '+ name)"
   ]
  },
  {
   "cell_type": "code",
   "execution_count": 36,
   "id": "b868649d-6468-43ac-a45c-6d849929854d",
   "metadata": {},
   "outputs": [
    {
     "name": "stdin",
     "output_type": "stream",
     "text": [
      " Whats your name? Sumer\n",
      "Enter your favroute location-  Bangalore\n"
     ]
    },
    {
     "name": "stdout",
     "output_type": "stream",
     "text": [
      "Sumer likes Bangalore\n"
     ]
    }
   ],
   "source": [
    "name = input(' Whats your name?')\n",
    "favourate_place = input('Enter your favroute location- ')\n",
    "print(name + ' likes ' + favourate_place)"
   ]
  },
  {
   "cell_type": "markdown",
   "id": "ad580eca-f9cd-4269-abeb-44f7d0dd4017",
   "metadata": {},
   "source": [
    "### Replace----  replace() method. The first parameter is the word to search, the second parameter specifies the new value."
   ]
  },
  {
   "cell_type": "code",
   "execution_count": null,
   "id": "a186c8b4-56f3-4c55-b350-00048d430c70",
   "metadata": {},
   "outputs": [],
   "source": [
    "sent = \"Hello Python\"\n",
    "sent = sent.replace(\"Hello\",\"Hi\")\n",
    "print(sent) "
   ]
  },
  {
   "cell_type": "markdown",
   "id": "8a11b1f6-cb26-4f6f-9e05-b5497b351228",
   "metadata": {},
   "source": [
    "### Join------ The join(sequence) method joins elements and returns the combined string. The join methods combines every element of the sequence."
   ]
  },
  {
   "cell_type": "code",
   "execution_count": null,
   "id": "6067b3cd-d168-4c12-8920-2f470a6f6551",
   "metadata": {},
   "outputs": [],
   "source": [
    "a = str(input('name')) # You can also use input function to take inputs at run\n",
    "b = \"Lastname\"\n",
    "c = \"city\"\n",
    "sequence = (a,b,c)\n",
    "details =\" \".join(sequence)\n",
    "print(details)"
   ]
  },
  {
   "cell_type": "markdown",
   "id": "5c64c8e4-bc77-41b7-9799-4d729bf21c44",
   "metadata": {},
   "source": [
    "### The find() method searches for a query string and returns the character position if found. If the string is not found, it returns -1."
   ]
  },
  {
   "cell_type": "code",
   "execution_count": null,
   "id": "f9c9da29-96cd-49ef-af99-ad2d1bcda14e",
   "metadata": {},
   "outputs": [],
   "source": [
    "s = \"Python is a great language and I love Python\"\n",
    "\n",
    "index = s.find(\"great\")\n",
    "print(index)"
   ]
  },
  {
   "cell_type": "code",
   "execution_count": null,
   "id": "b100febc-60b7-4408-b7d3-d92cbe2f9f2d",
   "metadata": {},
   "outputs": [],
   "source": [
    "index = s.find(\"Great\") # Great is not available so it will retun -1, its compares with case sensitivity\n",
    "print(index)"
   ]
  },
  {
   "cell_type": "markdown",
   "id": "c6816022-0305-45a8-bf9c-f1eb1f94212f",
   "metadata": {},
   "source": [
    "### In function"
   ]
  },
  {
   "cell_type": "code",
   "execution_count": null,
   "id": "664c3a67-4af6-40a9-9924-a6e905c5f0ce",
   "metadata": {},
   "outputs": [],
   "source": [
    "if 'great' in s:\n",
    "    print(\"find function works\")"
   ]
  },
  {
   "cell_type": "markdown",
   "id": "be162121-3b3f-435c-b7b4-ab9847fe7936",
   "metadata": {},
   "source": [
    "### Split function() If you have a string, you can subdivide it into several strings. The string needs to have at least one separating character, which may be a space. By default the split method will use space as separator. Calling the method will return a list of all the substrings."
   ]
  },
  {
   "cell_type": "code",
   "execution_count": 39,
   "id": "d61b315d-0a6d-499a-b031-1c850d713928",
   "metadata": {},
   "outputs": [
    {
     "name": "stdout",
     "output_type": "stream",
     "text": [
      "['Python', 'is', 'a', 'great', 'language', 'and', 'I', 'love', 'Python']\n"
     ]
    }
   ],
   "source": [
    "sent = \"Python is a great language and I love Python\"\n",
    "words = sent.split()\n",
    "print(words)"
   ]
  },
  {
   "cell_type": "code",
   "execution_count": 40,
   "id": "e6754e7a-9d85-48f5-a035-7ee0b1eda2ba",
   "metadata": {},
   "outputs": [
    {
     "data": {
      "text/plain": [
       "list"
      ]
     },
     "execution_count": 40,
     "metadata": {},
     "output_type": "execute_result"
    }
   ],
   "source": [
    "type(words) # split function change string to list of string"
   ]
  },
  {
   "cell_type": "markdown",
   "id": "4d97e6aa-4e8e-44f3-a960-220631af2797",
   "metadata": {},
   "source": [
    "#### len() function, Returns the number of items in an object. When the object is a string, the len() function returns the number of characters in the string."
   ]
  },
  {
   "cell_type": "code",
   "execution_count": 41,
   "id": "d8494617-9171-4d7c-ae32-19919a510436",
   "metadata": {},
   "outputs": [
    {
     "data": {
      "text/plain": [
       "44"
      ]
     },
     "execution_count": 41,
     "metadata": {},
     "output_type": "execute_result"
    }
   ],
   "source": [
    "len(sent) # its a string so number characters "
   ]
  },
  {
   "cell_type": "code",
   "execution_count": 42,
   "id": "37ed30de-4900-4068-a629-667bac5bb1b7",
   "metadata": {},
   "outputs": [
    {
     "data": {
      "text/plain": [
       "9"
      ]
     },
     "execution_count": 42,
     "metadata": {},
     "output_type": "execute_result"
    }
   ],
   "source": [
    "len(words) # its a list so number elements "
   ]
  },
  {
   "cell_type": "markdown",
   "id": "7c0527cb-7982-4b0d-9d9c-7d78867977b7",
   "metadata": {},
   "source": [
    "### random() , random module\n",
    "#### To create random numbers with Python code you can use the random module"
   ]
  },
  {
   "cell_type": "code",
   "execution_count": 43,
   "id": "1b98aa51-6dee-496d-bdbc-6c9cf4934edd",
   "metadata": {},
   "outputs": [
    {
     "name": "stdout",
     "output_type": "stream",
     "text": [
      "0.6390868174054412\n"
     ]
    }
   ],
   "source": [
    "import random #import libs using import <lib name>\n",
    "\n",
    "# Create a random floating number\n",
    "print(random.random())\n"
   ]
  },
  {
   "cell_type": "code",
   "execution_count": 44,
   "id": "886dadd9-0585-4b6d-9c09-f94c85ee8a1d",
   "metadata": {},
   "outputs": [
    {
     "name": "stdout",
     "output_type": "stream",
     "text": [
      "3\n"
     ]
    }
   ],
   "source": [
    "# pick a random number between 0 and 5.\n",
    "print(random.randrange(0,5))"
   ]
  },
  {
   "cell_type": "code",
   "execution_count": 45,
   "id": "463581e2-34ff-4fb9-9196-32908104f36e",
   "metadata": {},
   "outputs": [
    {
     "name": "stdout",
     "output_type": "stream",
     "text": [
      "9.197653363229682\n"
     ]
    }
   ],
   "source": [
    "# pick a random floating number between 5 and 10.\n",
    "print(random.uniform(5,10))"
   ]
  },
  {
   "cell_type": "code",
   "execution_count": null,
   "id": "a7f695e4-d592-4ff9-9338-4b2fa9397658",
   "metadata": {},
   "outputs": [],
   "source": []
  },
  {
   "cell_type": "code",
   "execution_count": null,
   "id": "abda2562-ba4b-4016-9408-4f0d850bd12d",
   "metadata": {},
   "outputs": [],
   "source": []
  },
  {
   "cell_type": "markdown",
   "id": "99614854-3255-4ea6-a093-2442edfb7e9b",
   "metadata": {},
   "source": [
    "**List and Dictionary**"
   ]
  },
  {
   "cell_type": "code",
   "execution_count": null,
   "id": "0944b45f-820c-4938-8f20-ac6ad6f5d1f2",
   "metadata": {},
   "outputs": [],
   "source": []
  },
  {
   "cell_type": "code",
   "execution_count": null,
   "id": "5815be23-7079-4ec2-87dd-fb1960a64025",
   "metadata": {},
   "outputs": [],
   "source": []
  },
  {
   "cell_type": "code",
   "execution_count": null,
   "id": "9c8b7caa-2c82-490b-9111-f511d1bdebd6",
   "metadata": {},
   "outputs": [],
   "source": []
  },
  {
   "cell_type": "code",
   "execution_count": null,
   "id": "72dd1cfa-5ad4-4157-b67c-6104a1c378be",
   "metadata": {},
   "outputs": [],
   "source": []
  },
  {
   "cell_type": "code",
   "execution_count": null,
   "id": "c7acb5e4-ff3c-4ba5-b364-1cd226e9d2f9",
   "metadata": {},
   "outputs": [],
   "source": []
  },
  {
   "cell_type": "code",
   "execution_count": null,
   "id": "dc8b3526-66cd-4221-ab0d-682e42bff0df",
   "metadata": {},
   "outputs": [],
   "source": [
    "#list\n",
    "numbers = [1,2,3,4,5]\n",
    "numbers[0]"
   ]
  },
  {
   "cell_type": "code",
   "execution_count": null,
   "id": "16b9bfde-f762-4b8e-8db4-074783df8ab9",
   "metadata": {},
   "outputs": [],
   "source": [
    "numbers[4]"
   ]
  },
  {
   "cell_type": "code",
   "execution_count": null,
   "id": "bf682c2a-c0ae-440f-90ce-f84ad64f637a",
   "metadata": {},
   "outputs": [],
   "source": [
    "numbers"
   ]
  },
  {
   "cell_type": "code",
   "execution_count": null,
   "id": "bfa0f2cf-b855-4c5c-ace3-40263d60f7e6",
   "metadata": {},
   "outputs": [],
   "source": [
    "numbers.remove(5)\n",
    "numbers"
   ]
  },
  {
   "cell_type": "code",
   "execution_count": null,
   "id": "d2415f92-79ba-4f99-8824-e2951ec74884",
   "metadata": {},
   "outputs": [],
   "source": [
    "numbers.pop()"
   ]
  },
  {
   "cell_type": "code",
   "execution_count": null,
   "id": "df3443bf-f5b4-4794-ae9d-973c56f27eea",
   "metadata": {},
   "outputs": [],
   "source": [
    "numbers.append(4)\n",
    "numbers"
   ]
  },
  {
   "cell_type": "code",
   "execution_count": null,
   "id": "68890fcc-d52a-4457-b57c-c66c3fcdee81",
   "metadata": {},
   "outputs": [],
   "source": [
    "numbers.reverse()\n",
    "numbers"
   ]
  },
  {
   "cell_type": "code",
   "execution_count": null,
   "id": "5448e9b3-093a-44ef-b001-ab8072824da6",
   "metadata": {},
   "outputs": [],
   "source": [
    "#Dictionaries-- key:value\n",
    "people = {\n",
    "    \"country\":\"India\",\n",
    "    \"state\":\"Delhi\",\n",
    "    \"Population\":50,\n",
    "    \"Population\": 100\n",
    "}\n",
    "people"
   ]
  },
  {
   "cell_type": "code",
   "execution_count": null,
   "id": "fe45b2bc-d443-4f4d-ae4b-e10a58f19302",
   "metadata": {},
   "outputs": [],
   "source": [
    "people[\"Population\"]"
   ]
  },
  {
   "cell_type": "code",
   "execution_count": null,
   "id": "c1b9be8e-4f7b-4bee-ad75-caa980db1faf",
   "metadata": {},
   "outputs": [],
   "source": []
  },
  {
   "cell_type": "markdown",
   "id": "d8541526-a013-408f-a17e-df6abaa3e803",
   "metadata": {},
   "source": [
    "# Sets\n",
    "A set is an unordered collection with no duplicate elements.Set objects also support mathematical operations like union, intersection, difference.\n",
    "Curly braces or the set() function can be used to create sets. \n",
    "Note: to create an empty set you have to use set(), not {}; the latter creates an empty dictionary"
   ]
  },
  {
   "cell_type": "code",
   "execution_count": null,
   "id": "853a6f8a-92b3-493a-9b1c-0cde1b5af935",
   "metadata": {},
   "outputs": [],
   "source": [
    "set1 = {1,2,3} # dict {key:value}\n",
    "print(type(set1))"
   ]
  },
  {
   "cell_type": "code",
   "execution_count": null,
   "id": "6a487b7a-8108-4fba-a7a0-45175aedc535",
   "metadata": {},
   "outputs": [],
   "source": [
    "fruits = {'apple', 'orange', 'apple', 'pear', 'orange', 'banana'}\n",
    "print(fruits)                      # show that duplicates have been removed"
   ]
  },
  {
   "cell_type": "code",
   "execution_count": null,
   "id": "1d12c7db-fe4d-42cd-b2f4-a83b0acdcc3e",
   "metadata": {},
   "outputs": [],
   "source": [
    "'orange' in fruits                 # fast membership testing\n"
   ]
  },
  {
   "cell_type": "code",
   "execution_count": null,
   "id": "d0d6d4dc-ff26-4dc0-8a52-db58fc916a33",
   "metadata": {},
   "outputs": [],
   "source": [
    "'mango' in fruits"
   ]
  },
  {
   "cell_type": "code",
   "execution_count": null,
   "id": "4321f376-1310-4a39-a6c1-3e8666466eed",
   "metadata": {},
   "outputs": [],
   "source": [
    "a = set('abracadabra')\n",
    "b = set('alacazam')\n",
    "a # unique letters in a\n"
   ]
  },
  {
   "cell_type": "code",
   "execution_count": null,
   "id": "f6527a67-5e27-4564-b603-f9b0705cdd56",
   "metadata": {},
   "outputs": [],
   "source": [
    "b"
   ]
  },
  {
   "cell_type": "code",
   "execution_count": null,
   "id": "e6850035-d3d2-4f45-b73d-b986819ad741",
   "metadata": {},
   "outputs": [],
   "source": [
    "a - b                              # letters in a but not in b"
   ]
  },
  {
   "cell_type": "code",
   "execution_count": null,
   "id": "75327135-f0f9-4946-b6c6-8053e9b81f11",
   "metadata": {},
   "outputs": [],
   "source": [
    "a | b                              # letters in a or b or both"
   ]
  },
  {
   "cell_type": "code",
   "execution_count": null,
   "id": "22640881-ebaa-4749-b88e-34d47fba9545",
   "metadata": {},
   "outputs": [],
   "source": [
    "a & b                              # letters in both a and b"
   ]
  },
  {
   "cell_type": "code",
   "execution_count": null,
   "id": "9c90d4d9-d85d-41bd-8eb5-c7f6cef9da6c",
   "metadata": {},
   "outputs": [],
   "source": [
    "a ^ b                              # letters in a or b but not both (!= a & B)"
   ]
  },
  {
   "cell_type": "markdown",
   "id": "c28f53ed-0efd-4ffa-ba11-9276b386ad96",
   "metadata": {},
   "source": [
    "### Tuples ---> Not immutable"
   ]
  },
  {
   "cell_type": "code",
   "execution_count": null,
   "id": "4151c34b-3d0b-4172-b86a-690d0c9884bb",
   "metadata": {},
   "outputs": [],
   "source": [
    "#Tuples ---> Not immutable\n",
    "city = ('Delhi1','Mumbai','Chennai','Kolkatta','Delhi1','Delhi','Mumbai')"
   ]
  },
  {
   "cell_type": "code",
   "execution_count": null,
   "id": "374547fe-77e4-4bdf-a970-6cec6b43215a",
   "metadata": {},
   "outputs": [],
   "source": [
    "city[0]"
   ]
  },
  {
   "cell_type": "code",
   "execution_count": null,
   "id": "f03a735c-f340-458f-8fba-4fe6b42badb1",
   "metadata": {},
   "outputs": [],
   "source": [
    "city[0]='Bangalore'"
   ]
  },
  {
   "cell_type": "code",
   "execution_count": null,
   "id": "319539a1-8a93-45d7-bbea-4e58447813fe",
   "metadata": {},
   "outputs": [],
   "source": [
    "print(type(tuple1))"
   ]
  },
  {
   "cell_type": "code",
   "execution_count": null,
   "id": "3cf2445c-01f1-4b09-8724-2ad45cfe0b63",
   "metadata": {},
   "outputs": [],
   "source": [
    "##Inbuilt functions\n",
    "city.count('Delhi')"
   ]
  },
  {
   "cell_type": "code",
   "execution_count": null,
   "id": "cefdd3ff-dfec-4a05-902e-c4bc1c0b824e",
   "metadata": {},
   "outputs": [],
   "source": [
    "city.index('Delhi')"
   ]
  },
  {
   "cell_type": "code",
   "execution_count": null,
   "id": "3cb129b7-bc23-4e5e-a177-fe1038c50006",
   "metadata": {},
   "outputs": [],
   "source": []
  },
  {
   "cell_type": "markdown",
   "id": "0c882c90-3541-4a2d-af76-8d9258fca8c1",
   "metadata": {},
   "source": [
    "## Comparision operaters (Boolean)"
   ]
  },
  {
   "cell_type": "code",
   "execution_count": null,
   "id": "cf2d1ceb-825f-46ae-9d4d-1e2ad4cb8b77",
   "metadata": {},
   "outputs": [],
   "source": [
    "# == , > , <, in , not in"
   ]
  },
  {
   "cell_type": "code",
   "execution_count": null,
   "id": "2dfdf996-e395-4216-8180-8862822dca80",
   "metadata": {},
   "outputs": [],
   "source": [
    "2 == 2"
   ]
  },
  {
   "cell_type": "code",
   "execution_count": null,
   "id": "10365693-6a2d-4700-a6e5-c34922b6d39d",
   "metadata": {},
   "outputs": [],
   "source": [
    "3 == 8"
   ]
  },
  {
   "cell_type": "code",
   "execution_count": null,
   "id": "4b364582-37ab-47e7-897b-88f1fa51338d",
   "metadata": {},
   "outputs": [],
   "source": [
    "\"Manali\" == \"Manali\""
   ]
  },
  {
   "cell_type": "code",
   "execution_count": null,
   "id": "3c851aa3-40d3-4c3a-9313-1f62b6c8beeb",
   "metadata": {},
   "outputs": [],
   "source": [
    "5 < 8"
   ]
  },
  {
   "cell_type": "code",
   "execution_count": null,
   "id": "38cc651c-0516-4f41-a43a-99bdbf9decb2",
   "metadata": {},
   "outputs": [],
   "source": [
    "\"B\" not in \"Manali\""
   ]
  },
  {
   "cell_type": "code",
   "execution_count": null,
   "id": "a2dc5de7-5b87-4ddd-a8f1-0cdfc7bfcda4",
   "metadata": {},
   "outputs": [],
   "source": [
    "#If else"
   ]
  },
  {
   "cell_type": "code",
   "execution_count": null,
   "id": "ae4078ff-2f1e-433b-ba6d-4c7b6e067d9d",
   "metadata": {},
   "outputs": [],
   "source": [
    "number1 = 25\n",
    "number2 = 20\n",
    "if number1> number2:\n",
    "    print('number1 is higher')\n",
    "else:\n",
    "    print('number2 is higher')"
   ]
  },
  {
   "cell_type": "code",
   "execution_count": null,
   "id": "eb2eb79b-afc3-40d1-be0a-ea7e41f79924",
   "metadata": {},
   "outputs": [],
   "source": [
    "brother_age= input('Enter brothers age -')\n",
    "sister_age= input('Enter sisters age - ')\n",
    "if brother_age > sister_age:\n",
    "    print('Brother is elder')\n",
    "elif brother_age == sister_age:\n",
    "    print('Twins')\n",
    "else:\n",
    "    print('Sister is elder')"
   ]
  },
  {
   "cell_type": "code",
   "execution_count": null,
   "id": "2c7a114a-9f38-496c-90d1-e02f37f0efad",
   "metadata": {},
   "outputs": [],
   "source": []
  },
  {
   "cell_type": "markdown",
   "id": "2f77ff6e-5390-449a-aa43-9aa585c4ebed",
   "metadata": {},
   "source": [
    "### for loop"
   ]
  },
  {
   "cell_type": "code",
   "execution_count": null,
   "id": "d5f577bc-ac01-4406-8216-65bd16a8dfff",
   "metadata": {},
   "outputs": [],
   "source": [
    "a = ['Red','Green','Yellow','Purple']"
   ]
  },
  {
   "cell_type": "code",
   "execution_count": null,
   "id": "18799dd7-7c45-4812-87c1-4411884eb27d",
   "metadata": {},
   "outputs": [],
   "source": [
    "print(a[0])\n",
    "print(a[1])\n",
    "print(a[2])\n",
    "print(a[3])"
   ]
  },
  {
   "cell_type": "code",
   "execution_count": null,
   "id": "6acf05bc-5917-44cc-bf42-3b5a26f2d4c7",
   "metadata": {},
   "outputs": [],
   "source": [
    "for elements1 in a:\n",
    "    print(elements1)"
   ]
  },
  {
   "cell_type": "code",
   "execution_count": null,
   "id": "614b6771-a3e0-4361-9372-287a6494fc10",
   "metadata": {},
   "outputs": [],
   "source": [
    "b = list(range(1, 6))\n",
    "for i in b:\n",
    "    print(i)"
   ]
  },
  {
   "cell_type": "code",
   "execution_count": null,
   "id": "da92c51e-c848-4ff8-bc7e-1c2293ff6060",
   "metadata": {},
   "outputs": [],
   "source": [
    "total = 0\n",
    "c = list(range(1, 5))\n",
    "for i in c:\n",
    "    total = total + i # 0 + 1 = 1, 1 + 2 = 3\n",
    "print(total)"
   ]
  },
  {
   "cell_type": "code",
   "execution_count": null,
   "id": "5057ead3-0a29-42d4-bb03-7695351d8c1f",
   "metadata": {},
   "outputs": [],
   "source": [
    "total1=0\n",
    "d = list(range(1, 11))\n",
    "for i in d:\n",
    "    if i % 5==0:\n",
    "        print(i)\n",
    "        total1 = total1 +  i \n",
    "print(total1)"
   ]
  },
  {
   "cell_type": "code",
   "execution_count": null,
   "id": "57ada869-00bf-4f5a-ac90-6e4f487dbe8d",
   "metadata": {},
   "outputs": [],
   "source": [
    "10 % 5"
   ]
  },
  {
   "cell_type": "code",
   "execution_count": null,
   "id": "a39746db-3109-4761-a942-0781ec13cc99",
   "metadata": {},
   "outputs": [],
   "source": []
  },
  {
   "cell_type": "markdown",
   "id": "03e2d261-9b0f-4ccf-b6f1-0d34e26c686f",
   "metadata": {},
   "source": [
    "### while loops"
   ]
  },
  {
   "cell_type": "code",
   "execution_count": null,
   "id": "32828472-450c-4295-833f-cd68b0d891b2",
   "metadata": {},
   "outputs": [],
   "source": [
    "a = 0\n",
    "while a < 6: #0 < 10 ----->True #0,1,2,..9\n",
    "    print(a)\n",
    "    a = a + 1"
   ]
  },
  {
   "cell_type": "code",
   "execution_count": null,
   "id": "5ccccb77-8a46-4e12-90d2-2bff12a32430",
   "metadata": {},
   "outputs": [],
   "source": [
    "#addition in while loop\n",
    "b = 0\n",
    "total_val=0\n",
    "while b < 5:#--------------------> 0,1,2,3,4(True)-----,5==5(False),6<5(False)\n",
    "    print(b)\n",
    "    total_val = total_val + b\n",
    "    b = b + 1\n",
    "print(total_val)"
   ]
  },
  {
   "cell_type": "code",
   "execution_count": null,
   "id": "7ed4f4c7-00a4-4ba1-af9a-2e4ce9964fc6",
   "metadata": {},
   "outputs": [],
   "source": [
    "c = 0\n",
    "while c < 5:#condition--=-------->True-----> If-------->Value of (0,1,2,3,4,) ----a---b--c------a---b--c--a---b--c--a---b--c--a---b--c|False)\n",
    "    if c > 3: # 0 > 3-----False,False,False,False,True\n",
    "        print(\"Greater than 3\")\n",
    "    else:\n",
    "        print(\"smaller than 3\")\n",
    "    c = c + 1 # c += 1"
   ]
  },
  {
   "cell_type": "code",
   "execution_count": null,
   "id": "4a842c26-1047-46ac-8d6c-971a0dd4d799",
   "metadata": {},
   "outputs": [],
   "source": []
  },
  {
   "cell_type": "markdown",
   "id": "6f7ad230-8121-4c07-a3f8-6330e7bd5378",
   "metadata": {},
   "source": [
    "### Functions"
   ]
  },
  {
   "cell_type": "code",
   "execution_count": null,
   "id": "35480f1e-cf7e-44e5-aa77-cbe00c437269",
   "metadata": {},
   "outputs": [],
   "source": [
    "def function1():\n",
    "    print('This is first line')\n",
    "    print('This is the second line')\n",
    "    \n",
    "print('Outside the function')"
   ]
  },
  {
   "cell_type": "code",
   "execution_count": null,
   "id": "c4536790-142f-4ceb-b54e-7123dedd22a8",
   "metadata": {},
   "outputs": [],
   "source": [
    "function1()"
   ]
  },
  {
   "cell_type": "code",
   "execution_count": null,
   "id": "1ba1b1e9-ee4a-4cc6-8aff-e818e5b63342",
   "metadata": {},
   "outputs": [],
   "source": [
    "def add(x):\n",
    "    print(x + 2)"
   ]
  },
  {
   "cell_type": "code",
   "execution_count": null,
   "id": "b0385826-b9d3-40de-97d0-da8c88b101f3",
   "metadata": {},
   "outputs": [],
   "source": [
    "add(4)"
   ]
  },
  {
   "cell_type": "code",
   "execution_count": null,
   "id": "f889cdbb-b616-4eb3-8cb0-5371f19501b2",
   "metadata": {},
   "outputs": [],
   "source": [
    "def mult(a):\n",
    "    return(a* 3)"
   ]
  },
  {
   "cell_type": "code",
   "execution_count": null,
   "id": "dca7197d-6596-4a01-a9cf-228b24e86a7b",
   "metadata": {},
   "outputs": [],
   "source": [
    "var1 = mult(2)\n",
    "print(var1)"
   ]
  },
  {
   "cell_type": "code",
   "execution_count": null,
   "id": "f5b4847a-779e-4249-a7a7-9660b8962073",
   "metadata": {},
   "outputs": [],
   "source": [
    "#average bw two numbers\n",
    "def average(a, b):\n",
    "    \"\"\"This function is taking average bw two numbers, this function doesnt do division\"\"\"\n",
    "    average_v = (a+b)/2\n",
    "    return(average_v)"
   ]
  },
  {
   "cell_type": "code",
   "execution_count": null,
   "id": "fe024040-f33d-4c94-8177-af3e30523dad",
   "metadata": {},
   "outputs": [],
   "source": [
    "average(4, 6)"
   ]
  },
  {
   "cell_type": "code",
   "execution_count": null,
   "id": "0eb90341-640b-45d6-9a54-67cad428b134",
   "metadata": {},
   "outputs": [],
   "source": [
    "print(average.__doc__)"
   ]
  },
  {
   "cell_type": "markdown",
   "id": "6ff9d68e-f5ee-438a-8859-f75672ebf538",
   "metadata": {},
   "source": [
    "### Lambda functions"
   ]
  },
  {
   "cell_type": "code",
   "execution_count": null,
   "id": "52d6a914-1ccd-4f1e-b4df-525a463dffa7",
   "metadata": {},
   "outputs": [],
   "source": [
    "# lambda (arguments): operation(arguments)\n",
    "def show_val(a):\n",
    "    print(a)\n",
    "show_val(5)"
   ]
  },
  {
   "cell_type": "code",
   "execution_count": null,
   "id": "6879f342-49d1-446a-9def-f33316f8d62c",
   "metadata": {},
   "outputs": [],
   "source": [
    "show_val = lambda a:print(a)\n",
    "show_val(6)"
   ]
  },
  {
   "cell_type": "code",
   "execution_count": null,
   "id": "d79d305b-045f-40fa-b90c-432dde5cd0cf",
   "metadata": {},
   "outputs": [],
   "source": [
    "add=  lambda x, y: x + y\n",
    "add(4, 2)"
   ]
  },
  {
   "cell_type": "code",
   "execution_count": null,
   "id": "0f762714-32cb-4e1f-8cae-82b9ef57eda3",
   "metadata": {},
   "outputs": [],
   "source": [
    "operate1 = lambda x, y: (x + y, x - y) # x = 6, Y = 3----->(6+3,6-3)--->(9, 3)\n",
    "x , y = operate1(6, 3)\n",
    "print(x)\n",
    "print(y)"
   ]
  },
  {
   "cell_type": "markdown",
   "id": "8c81df00-91ce-4a9a-8169-495e7fb122fb",
   "metadata": {},
   "source": [
    "### **NUMPY and pandas**"
   ]
  },
  {
   "cell_type": "markdown",
   "id": "c253c6b2-3937-4e7a-8c09-ed6150b2813a",
   "metadata": {},
   "source": [
    "#### Numrical Python In Python we have lists that serve the purpose of arrays, but they are slow to process.**\n",
    "\n",
    "#### NumPy aims to provide an array object that is up to 50x faster than traditional Python lists.**\n",
    "\n",
    "#### The array object in NumPy is called ndarray, it provides a lot of supporting functions that make working with ndarray very easy.**"
   ]
  },
  {
   "cell_type": "markdown",
   "id": "bb32f22b-416d-49f7-80f6-953b9e4eccd1",
   "metadata": {},
   "source": [
    "#### Pandas allows us to analyze big data and make conclusions based on statistical theories.\n",
    "\n",
    "#### Pandas can clean messy data sets, and make them readable and relevant.\n",
    "\n",
    "#### Relevant data is very important in data science."
   ]
  },
  {
   "cell_type": "code",
   "execution_count": null,
   "id": "e413e935-6d70-4ef8-81aa-ec209d8468ff",
   "metadata": {},
   "outputs": [],
   "source": [
    "import pandas as pd\n",
    "import numpy as np "
   ]
  },
  {
   "cell_type": "code",
   "execution_count": null,
   "id": "a7704f18-611f-4a91-8868-47b1db7de986",
   "metadata": {},
   "outputs": [],
   "source": [
    "ser = pd.Series([1,2,4,5,np.nan,9])\n",
    "ser"
   ]
  },
  {
   "cell_type": "code",
   "execution_count": null,
   "id": "d11bafb4-88d7-4946-93d4-d4efeaf1af5f",
   "metadata": {},
   "outputs": [],
   "source": [
    "details_dict = {\"Name\":['suresh','Mukesh','Anil'],\n",
    "               \"Class\":[8, 9, 6],\n",
    "               \"car\":['Maruti','Honda','Ford']}"
   ]
  },
  {
   "cell_type": "code",
   "execution_count": null,
   "id": "bf221adb-bce5-4bc9-b30b-811fab4379b4",
   "metadata": {},
   "outputs": [],
   "source": [
    "df1 = pd.DataFrame(details_dict)\n",
    "df1.head()"
   ]
  },
  {
   "cell_type": "code",
   "execution_count": null,
   "id": "86a3114a-7a28-440e-a7e6-81860b58a0ce",
   "metadata": {},
   "outputs": [],
   "source": [
    "df = pd.read_csv(\"food_items.csv\")"
   ]
  },
  {
   "cell_type": "code",
   "execution_count": null,
   "id": "6707b8fb-a11c-400c-ae9e-65b81abe6fe9",
   "metadata": {},
   "outputs": [],
   "source": [
    "df.head()\n",
    "df.tail(4)\n",
    "df.describe()"
   ]
  },
  {
   "cell_type": "code",
   "execution_count": null,
   "id": "96c8e39c-2d29-4a82-8a45-bcccf37b76f6",
   "metadata": {},
   "outputs": [],
   "source": [
    "df.dtypes"
   ]
  },
  {
   "cell_type": "code",
   "execution_count": null,
   "id": "fb95e3b6-807f-4612-809d-79dc4d2836d3",
   "metadata": {},
   "outputs": [],
   "source": [
    "df.index\n",
    "df.shape"
   ]
  },
  {
   "cell_type": "code",
   "execution_count": null,
   "id": "10d6a480-bc3c-4b6a-867a-f679b184c952",
   "metadata": {},
   "outputs": [],
   "source": [
    "df.T"
   ]
  },
  {
   "cell_type": "code",
   "execution_count": null,
   "id": "bbc0d22f-fe0a-4398-9ea1-c9cbc5211dcc",
   "metadata": {},
   "outputs": [],
   "source": [
    "df.sort_index(axis=1, ascending=False)"
   ]
  }
 ],
 "metadata": {
  "kernelspec": {
   "display_name": "Python 3",
   "language": "python",
   "name": "python3"
  },
  "language_info": {
   "codemirror_mode": {
    "name": "ipython",
    "version": 3
   },
   "file_extension": ".py",
   "mimetype": "text/x-python",
   "name": "python",
   "nbconvert_exporter": "python",
   "pygments_lexer": "ipython3",
   "version": "3.9.1"
  }
 },
 "nbformat": 4,
 "nbformat_minor": 5
}
